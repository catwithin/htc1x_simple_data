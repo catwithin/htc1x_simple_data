{
  "nbformat": 4,
  "nbformat_minor": 0,
  "metadata": {
    "colab": {
      "name": "Copy of Copy of chapter-1_introduction.ipynb",
      "provenance": [],
      "collapsed_sections": []
    },
    "kernelspec": {
      "name": "python3",
      "display_name": "Python 3"
    }
  },
  "cells": [
    {
      "cell_type": "markdown",
      "metadata": {
        "id": "fBL_UDKMUecP",
        "colab_type": "text"
      },
      "source": [
        "# Linear Algebra foundations"
      ]
    },
    {
      "cell_type": "markdown",
      "metadata": {
        "id": "epI6MB1fsV2c",
        "colab_type": "text"
      },
      "source": [
        "## Linear System\n",
        "\n",
        "System of Linear algebraic equations (2):\n",
        "\n",
        "$$\n",
        "\\begin{array}{c}\n",
        "a_{11}x_1 + a_{12}x_2+ \\cdots + a_{1n}x_n = b_1 \\\\\n",
        "a_{21}x_1 + a_{22}x_2+ \\cdots + a_{2n}x_n = b_2 \\\\\n",
        "\\vdots \\\\\n",
        "a_{m1}x_1 + a_{m2}x_2+ \\cdots + a_{mn}x_n = b_n \\\\\n",
        "\\end{array}\n",
        "$$\n",
        "\n",
        "**Homogeneous system** $(2^0)$, **associated** to (2):\n",
        "$$\n",
        "\\begin{array}{c}\n",
        "a_{11}x_1 + a_{12}x_2+ \\cdots + a_{1n}x_n = 0 \\\\\n",
        "a_{21}x_1 + a_{22}x_2+ \\cdots + a_{2n}x_n = 0 \\\\\n",
        "\\vdots\\\\\n",
        "a_{m1}x_1 + a_{m2}x_2+ \\cdots + a_{mn}x_n = 0 \\\\\n",
        "\\end{array}\n",
        "$$"
      ]
    },
    {
      "cell_type": "markdown",
      "metadata": {
        "id": "1Eaz3N-kUbTQ",
        "colab_type": "text"
      },
      "source": [
        "###Row echelon form\n",
        "\n",
        "Using Gauss's method any system can be reduced to **row echelon form** (4):\n",
        "\n",
        "$$\n",
        "\\begin{array}{lllrl}\n",
        "a'_{11}x_1\\ +   &               & \\cdots  &   +\\ \\ a'_{1n}x_n       & = b'_1  \\\\\n",
        "                & a'_{2k}x_k\\ + & \\cdots  &   +\\ \\ a'_{2n}x_n       & = b'_2  \\\\\n",
        "                & \\vdots        &         &                         & \\\\\n",
        "                & a'_{rs}x_s\\ + & \\cdots  &   +\\ \\ a'_{rn}x_n       & = b'_r  \\\\\n",
        "                &               &         &   0                     & = b'_{r+1}  \\\\\n",
        "                & \\vdots        &         &                         & \\\\ \n",
        "                &               &         &   0                     & = b'_m \\\\\n",
        "\\end{array}\n",
        "$$\n",
        "\n",
        "r - **rank** of the system\n",
        "\n",
        "The leftmost nonzero entry is called the **leading coefficient** (or **pivot**) of that row.\n",
        "\n",
        "A matrix is said to be in **reduced row echelon form** if furthermore all of the leading coefficients are equal to 1 (which can be achieved by using the elementary row operation of type 2), and in every column containing a leading coefficient, all of the other entries in that column are zero (which can be achieved by using elementary row operations of type 3). [wiki](https://en.wikipedia.org/wiki/Gaussian_elimination#Echelon_form)\n",
        "\n"
      ]
    },
    {
      "cell_type": "markdown",
      "metadata": {
        "id": "9BS8fwukl2I_",
        "colab_type": "text"
      },
      "source": [
        "### Elementary Row operations\n",
        "[From Wikipedia:](https://en.wikipedia.org/wiki/Gaussian_elimination#Row_operations)\n",
        "\n",
        "There are three types of elementary row operations which may be performed on the rows of a matrix:\n",
        "\n",
        "1. Swap the positions of two rows.\n",
        "2. Multiply a row by a non-zero scalar.\n",
        "3. Add to one row a scalar multiple of another.\n",
        "\n",
        "If the matrix is associated to a system of linear equations, then **these operations do not change the solution set**. Therefore, if one's goal is to solve a system of linear equations, then using these row operations could make the problem easier."
      ]
    },
    {
      "cell_type": "markdown",
      "metadata": {
        "id": "XKpeCfIZk3Et",
        "colab_type": "text"
      },
      "source": [
        "### Solutions\n",
        "\n",
        "If any $b'_{r+1} \\dots b'_m \\neq 0$ system is **inconsistent** (doesn't have solutions).\n",
        "\n",
        "System is **consistent iff** all $b'_{r+1} \\dots b'_m == 0$.\n",
        "\n",
        "Compatible system **has a single unique solution** iff in row echelon form r = n.\n",
        "\n",
        "If $m==n$, system (2) **has a single unique solution** iff associated homogeneous system has only 1 solution (namely all zeroes solution). \n",
        "\n",
        "Homogeneous system has many solutions iff it has any non-zero solution."
      ]
    },
    {
      "cell_type": "markdown",
      "metadata": {
        "id": "XbYDrGtl5bSo",
        "colab_type": "text"
      },
      "source": [
        "### Number of solutions\n",
        "\n",
        "|Linear System:   |not Homogeneous   |Homogeneous   |\n",
        "|---|---|---|\n",
        "|General case, n = m   |0, 1, $\\infty$; 1 iff associated homogeneous has only 1   |  | \n",
        "|**Underdetermined** n > m (=> n > r)   |0, $\\infty$   | $\\infty$  | \n",
        "|**Overdetermined** n < m   |most probably 0, but can be 1, $\\infty$   | 1, $\\infty$  | \n",
        " \n",
        " \n",
        "  \n",
        "Each **unknown n** can be seen as an **available degree of freedom**. \n",
        "\n",
        "Each **equation m** introduced into the system can be viewed as a **constraint that restricts one degree of freedom**."
      ]
    },
    {
      "cell_type": "markdown",
      "metadata": {
        "id": "dH6hUxc3Z3ar",
        "colab_type": "text"
      },
      "source": [
        "### Number of operations for solving linear system (Asymptotic analysis)\n",
        "\n",
        "Assumptions:\n",
        "\n",
        "1. Only count multiplications/divisions (skip summations)\n",
        "2. Assume the worst case - all variables are pivots - system has a single unique solution \n",
        "3. Assume homogeneity of the system: ignore **constant terms** (b coefficients)\n",
        "\n",
        "To get rid of $x_1$ from equations with number $i > 1$ we calculate $l_i = a_{i1}/a_{11}$ (1 division) and n - 1 multiplications: $l_ia_{ij}, where\\ j=2, 3..n$ => n operations for each equation $i = 2, 3, .., n$ => overall $n(n-1)$ operations to eliminate $x_1$.To eliminate $x_2$ from the rest $n-1$ equations we will need $(n-1)(n-2)$ operations, etc.\n",
        "\n",
        "To bring it to the row echelone form we will need \n",
        "$$\n",
        "G(n) = n(n-1) + (n-1)(n-2) + \\dots + 1(1-1)\n",
        "$$\n",
        "$$\n",
        "G(n) = \\frac{n^3-n}{3}\n",
        "$$\n",
        "\n",
        "To find solutions to the system going from bottom to the top we will need  $1+2+3+ \\dots +n = \\frac{n(n+1)}{2}$ operations.\n",
        "\n",
        "=> $G(n)=\\frac{n^3}{3}$ => Gaussian method is bound by $O(n^{3})$ operations.\n",
        "\n",
        "Can do $O(n^{2})$ with [Strassen 1969](https://link.springer.com/article/10.1007%2FBF02165411?LI=true) \n",
        "\n",
        "[Strassen algorithm wiki](https://en.wikipedia.org/wiki/Strassen_algorithm) "
      ]
    },
    {
      "cell_type": "markdown",
      "metadata": {
        "id": "cfTblSzTBskE",
        "colab_type": "text"
      },
      "source": [
        "## Determinants as solutions to linear systems\n",
        "For matrix\n",
        "$$\n",
        "\\begin{pmatrix}\n",
        "a_{11} & a_{12} \\\\ \n",
        "a_{21} & a_{22} \\\\ \n",
        "\\end{pmatrix}\n",
        "$$\n",
        "\n",
        "expression $a_{11}a_{22} - a_{21}a_{12}$ is called a **determinant**. For now it's just a **number, assocoated with a matrix**.\n",
        "\n",
        "\n",
        "---\n",
        "\n",
        "\n",
        "\n",
        "If we try to solve system with n=2 and m=2:\n",
        "\n",
        "$$\n",
        "a_{11}x_1 + a_{12}x_2 = b_1 \\\\\n",
        "a_{21}x_1 + a_{22}x_2 = b_2 \\\\\n",
        "$$\n",
        "\n",
        "by deriving formulas for $x_i$ according to Gauss's elimination process, and substituting expressions with determinants, we will find that solutions are:\n",
        "\n",
        "$$\n",
        "x_1 = \\frac{\n",
        "\\begin{vmatrix}\n",
        "b_1 & a_{12} \\\\ \n",
        "b_{2} & a_{22} \\\\ \n",
        "\\end{vmatrix}}\n",
        "{\\begin{vmatrix}\n",
        "a_{11} & a_{12} \\\\ \n",
        "a_{21} & a_{22} \\\\ \n",
        "\\end{vmatrix}}, \\ \n",
        "x_2 = \\frac{\n",
        "\\begin{vmatrix}\n",
        "a_{11} & b_1 \\\\ \n",
        "a_{21} & b_{2} \\\\ \n",
        "\\end{vmatrix}}\n",
        "{\\begin{vmatrix}\n",
        "a_{11} & a_{12} \\\\ \n",
        "a_{21} & a_{22} \\\\ \n",
        "\\end{vmatrix}}, \\\n",
        "(we\\ suppose\\ that\\ \\begin{vmatrix}\n",
        "a_{11} & a_{12} \\\\ \n",
        "a_{21} & a_{22} \\\\ \n",
        "\\end{vmatrix} \\neq 0)\n",
        "$$\n",
        "\n",
        "\n",
        "\n"
      ]
    },
    {
      "cell_type": "markdown",
      "metadata": {
        "id": "nqAdMGUgJa57",
        "colab_type": "text"
      },
      "source": [
        "---\n",
        "\n",
        "Next, for *homogeneous* system with 3 unknowns and 2 equations (n=3, m=2):\n",
        "\n",
        "$$\n",
        "\\begin{cases}{c}\n",
        "a_{11}x_1 + a_{12}x_2+  a_{13}x_3 = 0 \\\\\n",
        "a_{21}x_1 + a_{22}x_2+  a_{23}x_3 = 0 \\\\\n",
        "\\end{cases}\n",
        "$$\n",
        "\n",
        "We are interested in non-zero solution, so at least one of $x_i \\neq 0$. Suppose it's $x_3$, then we can divide equations by $-x_3$ and substitute $y_1 = -x_1/x_3$, $y_2 = -x_2/x_3$ and we will get same system we just solved in terms of $y_i$:\n",
        "$$\n",
        "\\begin{cases}{c}\n",
        "a_{11}y_1 + a_{12}y_2 = a_{13} \\\\\n",
        "a_{21}y_1 + a_{22}y_2 = a_{23} \\\\\n",
        "\\end{cases}\n",
        "$$\n",
        "\n",
        "=>\n",
        "\n",
        "$$\n",
        "y_1 = -\\frac{x_1}{x_3} = \\frac{\n",
        "\\begin{vmatrix}\n",
        "a_{13} & a_{12} \\\\ \n",
        "a_{23} & a_{22} \\\\ \n",
        "\\end{vmatrix}}\n",
        "{\\begin{vmatrix}\n",
        "a_{11} & a_{12} \\\\ \n",
        "a_{21} & a_{22} \\\\ \n",
        "\\end{vmatrix}}, \\ \n",
        "y_2 = -\\frac{x_2}{x_3} = \\frac{\n",
        "\\begin{vmatrix}\n",
        "a_{11} & a_{13} \\\\ \n",
        "a_{21} & a_{23} \\\\ \n",
        "\\end{vmatrix}}\n",
        "{\\begin{vmatrix}\n",
        "a_{11} & a_{12} \\\\ \n",
        "a_{21} & a_{22} \\\\ \n",
        "\\end{vmatrix}}, \\\n",
        "(again,\\ suppose\\ that\\ \\begin{vmatrix}\n",
        "a_{11} & a_{12} \\\\ \n",
        "a_{21} & a_{22} \\\\ \n",
        "\\end{vmatrix} \\neq 0)\n",
        "$$\n",
        "\n",
        "We found relations between x's, since system is homogeneous, so for any solution $(x_1^0, x_2^0, x_3^0)$ and any number c, $(x_1^0, x_2^0, x_3^0)$ will also be a solution.\n",
        "\n",
        "So, one of solutions is \n",
        "\n",
        "$$\n",
        "x_1 = - \\ \n",
        "\\begin{vmatrix}\n",
        "a_{13} & a_{12} \\\\ \n",
        "a_{23} & a_{22} \\\\ \n",
        "\\end{vmatrix},\\ \n",
        "x_2 = - \\\n",
        "\\begin{vmatrix}\n",
        "a_{11} & a_{13} \\\\ \n",
        "a_{21} & a_{23} \\\\ \n",
        "\\end{vmatrix}, \\ \n",
        "x_3 = \n",
        "\\begin{vmatrix}\n",
        "a_{11} & a_{12} \\\\ \n",
        "a_{21} & a_{22} \\\\ \n",
        "\\end{vmatrix} \n",
        "$$\n",
        "\n",
        "And any other solution can be derived from this one by multiplying all x's by some constant c as long as at least one of these determinants does not equal zero. If all of them equal zero, we have a all-zeroes solution, but we can't say whether we can derive all of them (e.g. case of two equal equations $x_1 + x_2 + x_3 = 0$).\n",
        "\n"
      ]
    },
    {
      "cell_type": "markdown",
      "metadata": {
        "id": "mTB926PHKfYM",
        "colab_type": "text"
      },
      "source": [
        "---\n",
        "\n",
        "Now, for homogeneous system with 3 unknowns and 3 equations (n=3, m=3):\n",
        "\n",
        "$$\n",
        "\\begin{cases}{l}\n",
        "a_{11}x_1 + a_{12}x_2+  a_{13}x_3 = 0 \\\\\n",
        "a_{21}x_1 + a_{22}x_2+  a_{23}x_3 = 0 \\\\\n",
        "a_{31}x_1 + a_{32}x_2+  a_{33}x_3 = 0 \n",
        "\\end{cases}\n",
        "$$\n",
        "\n",
        "Again, we try to eliminate $x_2\\ and\\ x_3$ from this system, let's multiply each equation by $c_1, c_2, c_3$ respectively and take their sum. And let's find such $c_i$ that all members with $x_2$ and $x_3$ would zero out. It means, find such $c_i$ that satisfy system of equations:\n",
        "\n",
        "$$\n",
        "\\begin{cases}{l}\n",
        "a_{12}c_1 + a_{22}c_2+  a_{32}c_3 = 0 \\\\\n",
        "a_{13}c_1 + a_{23}c_2+  a_{33}c_3 = 0 \n",
        "\\end{cases}\n",
        "$$\n",
        "\n",
        "And we just solved such system, so we know the solution for $c_i$.\n",
        "\n",
        "When we plug those values back into equations in terms of x, we will get the expression for determinant of 3x3 matrix:\n",
        "\n",
        "$$\n",
        "\\begin{vmatrix}\n",
        "a_{11} & a_{12} & a_{13} \\\\ \n",
        "a_{21} & a_{22} & a_{23} \\\\ \n",
        "a_{31} & a_{32} & a_{33} \\\\ \n",
        "\\end{vmatrix}x_1 = \\begin{vmatrix}\n",
        "b_1 & a_{12} & a_{13} \\\\ \n",
        "b_2 & a_{22} & a_{23} \\\\ \n",
        "b_3 & a_{32} & a_{33} \n",
        "\\end{vmatrix}\n",
        "$$\n",
        "\n",
        "And the same goes for $x_2$ and $x_3$ with respective columns replaced by a column of constant terms.\n",
        "\n",
        "\n"
      ]
    },
    {
      "cell_type": "markdown",
      "metadata": {
        "id": "DJu_EeLzPi_S",
        "colab_type": "text"
      },
      "source": [
        "## Sets and Relations\n",
        "\n",
        "(Absolute) **Complement** of A: relative to some implicit universal set U of all members. $A^c = U \\backslash A$: those not in A.\n",
        "\n",
        "Relative Complement of A in S, Set difference of S and A: $ S - A = S \\backslash A $ : those in S, but not in A.\n",
        "\n"
      ]
    }
  ]
}